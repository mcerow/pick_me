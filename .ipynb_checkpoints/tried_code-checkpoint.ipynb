{
 "cells": [
  {
   "cell_type": "markdown",
   "metadata": {},
   "source": [
    "Get Player ID"
   ]
  },
  {
   "cell_type": "code",
   "execution_count": null,
   "metadata": {},
   "outputs": [],
   "source": [
    "play = player_name[-23]\n",
    "play"
   ]
  },
  {
   "cell_type": "code",
   "execution_count": null,
   "metadata": {},
   "outputs": [],
   "source": [
    "player_id = str(play)\n",
    "id_ = player_id.split('\"')\n",
    "# id_ = id_.lstrip('data-append-csv=\"')\n",
    "# id_ = id_.rstrip('\"')\n",
    "id_"
   ]
  },
  {
   "cell_type": "code",
   "execution_count": null,
   "metadata": {},
   "outputs": [],
   "source": [
    "play2 = player_name[25]\n",
    "print(play2)\n",
    "play2 = str(play2)\n",
    "play2 = play2.split('\"')\n",
    "play2[5]"
   ]
  },
  {
   "cell_type": "code",
   "execution_count": null,
   "metadata": {},
   "outputs": [],
   "source": [
    "def get_playerids(data):\n",
    "    all_ids = []\n",
    "    for i in data:\n",
    "        xid = str(i)\n",
    "        xid = xid.split('\"')[5]\n",
    "        all_ids.append(xid)\n",
    "    return all_ids"
   ]
  },
  {
   "cell_type": "markdown",
   "metadata": {},
   "source": [
    "Unique Player Identifier"
   ]
  },
  {
   "cell_type": "code",
   "execution_count": null,
   "metadata": {},
   "outputs": [],
   "source": [
    "nfl_combine_df['PlayerName'].value_counts()"
   ]
  },
  {
   "cell_type": "code",
   "execution_count": null,
   "metadata": {},
   "outputs": [],
   "source": [
    "nfl_combine_df['identifier'] = nfl_combine_df['PlayerName'] + nfl_combine_df['Position'] + nfl_combine_df['School'] + nfl_combine_df['Year']\n",
    "nfl_combine_df['identifier'].value_counts()\n",
    "\n",
    "### two Stanford Samuels - Stanford Samuels (2000-2003) & Stamford Samuels III (2017-2019), both undrafted"
   ]
  },
  {
   "cell_type": "code",
   "execution_count": null,
   "metadata": {},
   "outputs": [],
   "source": [
    "stats_search = pd.DataFrame()\n",
    "stats_search = nfl_combine_df[['PlayerName', 'Position', 'School', 'CombineYear']]\n",
    "stats_search.head()"
   ]
  },
  {
   "cell_type": "code",
   "execution_count": null,
   "metadata": {},
   "outputs": [],
   "source": [
    "stats_search['PlayerName']\n",
    "stats_search['first_name'] = stats_search['PlayerName'].map(lambda x: (x.split())[0])\n",
    "stats_search['first_name'] = stats_search['first_name'].map(lambda x: x.replace('.', ''))\n",
    "stats_search['second_name'] = stats_search['PlayerName'].map(lambda x: (x.split())[1])\n",
    "stats_search['second_name'] = stats_search['second_name'].map(lambda x: x.rstrip(','))\n",
    "stats_search['second_name'] = stats_search['second_name'].map(lambda x: x.replace('.', ''))\n",
    "stats_search['third_name'] = stats_search['PlayerName'].map(lambda x: x.split())\n",
    "stats_search['num_names'] = stats_search['PlayerName'].map(lambda x: len(x.split()))\n",
    "stats_search['third_name'] = stats_search['third_name'].map(lambda x: x[2] if 2 in range(len(x)) else \"\")\n",
    "stats_search['third_name'] = stats_search['third_name'].map(lambda x: x.rstrip('.'))"
   ]
  },
  {
   "cell_type": "code",
   "execution_count": null,
   "metadata": {},
   "outputs": [],
   "source": [
    "stats_search.head()"
   ]
  },
  {
   "cell_type": "code",
   "execution_count": null,
   "metadata": {},
   "outputs": [],
   "source": [
    "suffix = ['Jr', 'III', 'II']\n",
    "beg_last_name = ['Van']\n",
    "\n",
    "stats_search['Search_By'] = stats_search['first_name'] + '-' + stats_search['second_name'] + '-' + stats_search['third_name']\n",
    "stats_search['Search_By'] = stats_search['Search_By'].map(lambda x: x.rstrip('-'))\n",
    "stats_search['Search_By'] = stats_search['Search_By'].map(lambda x: x.lower())\n",
    "stats_search['Search_By']"
   ]
  },
  {
   "cell_type": "code",
   "execution_count": null,
   "metadata": {},
   "outputs": [],
   "source": [
    "stats_search[stats_search['num_names'] == 3]\n",
    "\n",
    "# stats_search.sort_values(['second_name', 'CombineYear'])"
   ]
  },
  {
   "cell_type": "code",
   "execution_count": null,
   "metadata": {},
   "outputs": [],
   "source": [
    "stats_search.iloc[4620]['PlayerName'] = 'HaHa Clinton-Dix'"
   ]
  },
  {
   "cell_type": "code",
   "execution_count": null,
   "metadata": {},
   "outputs": [],
   "source": [
    "stats_search.replace('Ha Ha Clinton-Dix', 'HaHa Clinton-Dix', inplace=True)"
   ]
  },
  {
   "cell_type": "code",
   "execution_count": null,
   "metadata": {},
   "outputs": [],
   "source": [
    "stats_search.iloc[4620]"
   ]
  },
  {
   "cell_type": "code",
   "execution_count": null,
   "metadata": {},
   "outputs": [],
   "source": []
  },
  {
   "cell_type": "code",
   "execution_count": null,
   "metadata": {},
   "outputs": [],
   "source": []
  },
  {
   "cell_type": "code",
   "execution_count": null,
   "metadata": {},
   "outputs": [],
   "source": [
    "def get_collegestats(data):\n",
    "    all_schools = []\n",
    "    count = 2\n",
    "    for i in data:\n",
    "        if count in range(len(data)):\n",
    "            all_schools.append(data[count].get_text())\n",
    "            count += 12\n",
    "    \n",
    "    return all_schools"
   ]
  },
  {
   "cell_type": "code",
   "execution_count": null,
   "metadata": {},
   "outputs": [],
   "source": [
    "def year_dictionary(data1, data2):\n",
    "    dictionary = {'name': names(data1), 'position': get_position(data2), 'school': get_school(data2), \n",
    "                  'height': get_height(data2), 'weight': get_weight(data2), '40yd': get_40yd(data2), \n",
    "                  'vertical': get_vertical(data2), 'bench': get_bench(data2), 'broadjump': get_broadjump(data2), \n",
    "                  '3cone': get_3cone(data2), 'shuttle': get_shuttle(data2), 'draft': get_draft(data2)}\n",
    "    return dictionary"
   ]
  },
  {
   "cell_type": "code",
   "execution_count": null,
   "metadata": {},
   "outputs": [],
   "source": []
  },
  {
   "cell_type": "code",
   "execution_count": null,
   "metadata": {},
   "outputs": [],
   "source": []
  }
 ],
 "metadata": {
  "kernelspec": {
   "display_name": "Python 3",
   "language": "python",
   "name": "python3"
  },
  "language_info": {
   "codemirror_mode": {
    "name": "ipython",
    "version": 3
   },
   "file_extension": ".py",
   "mimetype": "text/x-python",
   "name": "python",
   "nbconvert_exporter": "python",
   "pygments_lexer": "ipython3",
   "version": "3.7.6"
  }
 },
 "nbformat": 4,
 "nbformat_minor": 4
}
